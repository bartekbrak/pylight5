{
 "cells": [
  {
   "cell_type": "markdown",
   "metadata": {},
   "source": [
    "<script>\n",
    "    var link = document.createElement( 'link' );\n",
    "    link.rel = 'stylesheet';\n",
    "    link.type = 'text/css';\n",
    "    link.href = window.location.search.match( /print-pdf/gi ) ? 'css/print/pdf.css' : 'css/print/paper.css';\n",
    "    document.getElementsByTagName( 'head' )[0].appendChild( link );\n",
    "</script>"
   ]
  },
  {
   "cell_type": "markdown",
   "metadata": {
    "slideshow": {
     "slide_type": "skip"
    }
   },
   "source": [
    "- Prezentacja: Anaconda, CPython, MyPy? - Implementacje Pythona, co to, po co i dlaczego?  \n",
    "- Autor: Bartek Brak <bartek.rychlicki@gmail.com>, http://bartekbrak.github.io/aboutme.html\n",
    "- Data: 2018-03-14\n",
    "- Licencja: [MIT](https://tldrlegal.com/license/mit-license)"
   ]
  },
  {
   "cell_type": "markdown",
   "metadata": {
    "slideshow": {
     "slide_type": "slide"
    }
   },
   "source": [
    "<center>\n",
    "![](https://github.com/PyLightMeetup/pylight-resources/blob/master/guidelines-for-speakers_en/PyLight_logo_rgb_color.png?raw=true)\n",
    "</center>"
   ]
  },
  {
   "cell_type": "markdown",
   "metadata": {
    "slideshow": {
     "slide_type": "slide"
    }
   },
   "source": [
    "# Anaconda, CPython, MyPy? \n",
    "    \n",
    "## Implementacje Pythona\n",
    "###### i inne takie różne podobne, ale już nie implementacje\n",
    "## Co to, po co i dlaczego?\n",
    "\n",
    "@bartekbrak, 2018-03-15"
   ]
  },
  {
   "cell_type": "markdown",
   "metadata": {
    "slideshow": {
     "slide_type": "notes"
    }
   },
   "source": [
    "### Krótka, wesoła historia powstania Pythona\n",
    "\n",
    "Python powstał w Głowie wesołego Holendra o trudnym imieniu Guido, Guido van Rossum. Sam Guido mówi o sobie [ˈɣido] (hido z harczącym h) ale zupełenie mu nie przeszkadza kiedy Amerykanie nazywają go głido. Podczas gwiazdki 1989 miał trochę wolnego czasu i szukał jakiegoś projektu, który pozwoli mu zabić czas podczas przerwy świątecznej. \n"
   ]
  },
  {
   "cell_type": "markdown",
   "metadata": {
    "slideshow": {
     "slide_type": "slide"
    }
   },
   "source": [
    "# Guido van Rossum\n",
    "<center>\n",
    "\n",
    "![guido1](https://upload.wikimedia.org/wikipedia/commons/6/66/Guido_van_Rossum_OSCON_2006.jpg)\n",
    "\n",
    "<small>By Doc Searls [<a href=\"https://creativecommons.org/licenses/by-sa/2.0\">CC BY-SA 2.0</a>], <a href=\"https://commons.wikimedia.org/wiki/File%3AGuido_van_Rossum_OSCON_2006.jpg\">via Wikimedia Commons</a></small>\n",
    "\n",
    "</center>"
   ]
  },
  {
   "cell_type": "markdown",
   "metadata": {
    "slideshow": {
     "slide_type": "slide"
    }
   },
   "source": [
    "# Krótka, wesoła historia powstania Python"
   ]
  },
  {
   "cell_type": "markdown",
   "metadata": {
    "slideshow": {
     "slide_type": "fragment"
    }
   },
   "source": [
    "- powstał w Głowie wesołego Holendra o trudnym imieniu Guido"
   ]
  },
  {
   "cell_type": "markdown",
   "metadata": {
    "slideshow": {
     "slide_type": "fragment"
    }
   },
   "source": [
    "- gwiazdka 1989, trochę wolnego czasu, jako hobby"
   ]
  },
  {
   "cell_type": "markdown",
   "metadata": {
    "slideshow": {
     "slide_type": "fragment"
    }
   },
   "source": [
    "- wybrał nazwę po ulubionym Latającym Cyrku Monty Pythona..."
   ]
  },
  {
   "cell_type": "markdown",
   "metadata": {
    "slideshow": {
     "slide_type": "slide"
    }
   },
   "source": [
    "<center>\n",
    "![monty1](https://i0.wp.com/respectfulinsolence.com/wp-content/uploads/2016/02/SpanishInquisition.jpg)\n",
    "    <small> Screen from one of the episode's of Monty Python's Flying Circus, image stolen from <a href=\"https://respectfulinsolence.com/2016/02/25/sht-naturopaths-say-part-3-nobody-expects-the-spanish-inquisition/\">here</a>\n",
    "    </small>\n",
    "</center>"
   ]
  },
  {
   "cell_type": "markdown",
   "metadata": {
    "slideshow": {
     "slide_type": "notes"
    }
   },
   "source": [
    "...i dwa lata później (luty 1991) opublikował działającą wersję, kolejne dwa lata minęły zanim uformowała się społeczność i powstała pierwsza, kompletna wersja Pythona... mniej więcej wtedy też w innej części świata Backstreet Boys zaczęło swoją karierę... to dosyć późno jak na język programowania, Python to dalej młody język, dzięki czemu miał szansę korzystać z doświadczeń wielu poprzedników i nie popełnić ich błędów. Tak powstał CPython."
   ]
  },
  {
   "cell_type": "markdown",
   "metadata": {
    "slideshow": {
     "slide_type": "slide"
    }
   },
   "source": [
    "- dwa lata później (luty 1991) opublikował pierwszą działającą wersję"
   ]
  },
  {
   "cell_type": "markdown",
   "metadata": {
    "slideshow": {
     "slide_type": "fragment"
    }
   },
   "source": [
    "- kolejne dwa lata minęły zanim uformowała się społeczność i powstała pierwsza, kompletna wersja Pythona... tak powstał CPython."
   ]
  },
  {
   "cell_type": "markdown",
   "metadata": {
    "slideshow": {
     "slide_type": "slide"
    }
   },
   "source": [
    "<center>\n",
    "![logo0](https://upload.wikimedia.org/wikipedia/en/2/25/PythonProgLogo.png)\n",
    "    <small>Oryginalne logo Pythona, używane do 2005 roku</small>\n",
    "</center>\n"
   ]
  },
  {
   "cell_type": "markdown",
   "metadata": {
    "slideshow": {
     "slide_type": "slide"
    }
   },
   "source": [
    "<center>\n",
    "![logo1](https://www.python.org/static/community_logos/python-logo-master-v3-TM-flattened.png)\n",
    "    <small>Obecne logo Pythona</small>\n",
    "</center>"
   ]
  },
  {
   "cell_type": "markdown",
   "metadata": {
    "slideshow": {
     "slide_type": "notes"
    }
   },
   "source": [
    "### Co to jest CPython i czy to to samo co Python?\n",
    "\n",
    "Python i CPython to prawie to samo i zwykle mówiąc Python mamy na myśli właśnie CPython. CPython to tak zwana <i>reference implementation</i>, implementacja modelowa, przykład jak ma działać język, wzór. Na jego podstawie można pisać inne Pythony, i rzeczywiście wiele ich powstało. Mają różne cele, i zastosowania, o nich dzisiaj będziemy mówić. "
   ]
  },
  {
   "cell_type": "markdown",
   "metadata": {
    "slideshow": {
     "slide_type": "slide"
    }
   },
   "source": [
    "### Co to jest CPython i czy to to samo co Python?\n"
   ]
  },
  {
   "cell_type": "markdown",
   "metadata": {
    "slideshow": {
     "slide_type": "fragment"
    }
   },
   "source": [
    "- Python i CPython to prawie to samo i zwykle mówiąc Python mamy na myśli właśnie CPython. "
   ]
  },
  {
   "cell_type": "markdown",
   "metadata": {
    "slideshow": {
     "slide_type": "fragment"
    }
   },
   "source": [
    "- CPython to tak zwana <i>reference implementation</i>, implementacja modelowa"
   ]
  },
  {
   "cell_type": "markdown",
   "metadata": {
    "slideshow": {
     "slide_type": "fragment"
    }
   },
   "source": [
    "- Na jego podstawie można pisać inne Pythony"
   ]
  },
  {
   "cell_type": "markdown",
   "metadata": {
    "slideshow": {
     "slide_type": "notes"
    }
   },
   "source": [
    "CPython napisany jest w innym języku - C, jest najbardziej popularny i dojrzały, jest rozwijany od 29 lat, wkrótce urodziny!"
   ]
  },
  {
   "cell_type": "markdown",
   "metadata": {
    "slideshow": {
     "slide_type": "slide"
    }
   },
   "source": [
    "<center>\n",
    "    ![pylogos](pylogos.png)\n",
    "</center>\n",
    "\n"
   ]
  },
  {
   "cell_type": "markdown",
   "metadata": {
    "slideshow": {
     "slide_type": "slide"
    }
   },
   "source": [
    "### Jakie inne implementacje istnieją i do czego, ogólnie służą? Kto z nich korzysta?"
   ]
  },
  {
   "cell_type": "markdown",
   "metadata": {
    "slideshow": {
     "slide_type": "fragment"
    }
   },
   "source": [
    "- CPython"
   ]
  },
  {
   "cell_type": "markdown",
   "metadata": {
    "slideshow": {
     "slide_type": "fragment"
    }
   },
   "source": [
    "- Anaconda"
   ]
  },
  {
   "cell_type": "markdown",
   "metadata": {
    "slideshow": {
     "slide_type": "fragment"
    }
   },
   "source": [
    "- PyPy"
   ]
  },
  {
   "cell_type": "markdown",
   "metadata": {
    "slideshow": {
     "slide_type": "fragment"
    }
   },
   "source": [
    "- IPython"
   ]
  },
  {
   "cell_type": "markdown",
   "metadata": {
    "slideshow": {
     "slide_type": "slide"
    }
   },
   "source": [
    "- MicroPython"
   ]
  },
  {
   "cell_type": "markdown",
   "metadata": {
    "slideshow": {
     "slide_type": "fragment"
    }
   },
   "source": [
    "- IronPython"
   ]
  },
  {
   "cell_type": "markdown",
   "metadata": {
    "slideshow": {
     "slide_type": "fragment"
    }
   },
   "source": [
    "- Jython"
   ]
  },
  {
   "cell_type": "markdown",
   "metadata": {
    "slideshow": {
     "slide_type": "fragment"
    }
   },
   "source": [
    "- Numba"
   ]
  },
  {
   "cell_type": "markdown",
   "metadata": {
    "slideshow": {
     "slide_type": "fragment"
    }
   },
   "source": [
    "- Stackless"
   ]
  },
  {
   "cell_type": "markdown",
   "metadata": {
    "slideshow": {
     "slide_type": "fragment"
    }
   },
   "source": [
    "- Cython"
   ]
  },
  {
   "cell_type": "markdown",
   "metadata": {
    "slideshow": {
     "slide_type": "notes"
    }
   },
   "source": [
    "### Jakie inne implementacje istnieją i do czego, ogólnie służą? Kto z nich korzysta\n",
    "\n",
    "Jest ich wiele, każdy może napisać kolejną, Ty też. W tej prezentacji nie będę wchodził w szczegóły, rozróżniał implementacji od dialektu, nakładki czy REPLa. \n",
    "\n",
    "- CPython, modelowa implementacja, z której korzystamy na co dzień\n",
    "- Anaconda, kierowana do naukowców i początkujących w Pythonie, ułatwia instalację bibliotek i szybkie rozpoczęcie pracy, idealna do nauki pod Windowsem\n",
    "- PyPy, szybsza ale problematyczna wersja pythona, dla specjalistów szukających optymalizacji, \n",
    "- IPython, do interaktywnej pracy, ułatwia prototypowanie i poznawanie języka\n",
    "- MicroPython, odchudzona wersja dla hobbystów zajmujących się Raspberry Pi\n",
    "- IronPython, dodatek do .NET, ułatwia skryptowanie, zatrzymał się an 2.7\n",
    "- Jython, pomost miedzy pythonem i Javą, można rozszerzać kod w Javie \n",
    "- Numba, nakładka do super szybkich obliczeń, dla naukowców\n",
    "- Stackless Python, programowanie wielowątkowe inaczej, dla specjalistów\n",
    "- Cython, szybki praiwe jak C, statyczny, profesjonaliści i naukowcy danych\n"
   ]
  },
  {
   "cell_type": "markdown",
   "metadata": {
    "slideshow": {
     "slide_type": "slide"
    }
   },
   "source": [
    "<h1> Czy python 2 i 3 to też różne implementacje, czy 2 umrze? </h1>\n",
    "\n",
    "<center>\n",
    "![2v3](http://www.vitaliypodoba.com/wp-content/uploads/2014/05/python2_vs_python3.jpg)\n",
    "    <small> Python 2 versus Python 3, found at <a href=\"http://www.vitaliypodoba.com/2014/05/python2-or-python3/\">Віталій Подоба Blog</a> but he's not the author of the image. \n",
    "</center>"
   ]
  },
  {
   "cell_type": "markdown",
   "metadata": {
    "slideshow": {
     "slide_type": "notes"
    }
   },
   "source": [
    "### Czy python 2 i 3 to też różne implementacje, czy 2 umrze?\n",
    "\n",
    "Zależy kogo spytasz, nie da się uruchomić kodu z 2 na 3 i odwrotnie. \n",
    "Python 2 ma ustalona datę pogrzebu - 2020 ale ilość kodu, która została w nim napisana i została upchana w bankach, instytucjach, niedofinansowanych biznesach zapewnie programistom ból głowy na jeszcze długo.  \n"
   ]
  },
  {
   "cell_type": "markdown",
   "metadata": {
    "slideshow": {
     "slide_type": "slide"
    }
   },
   "source": [
    "Guido Van Rossum on <a href=\"https://mail.python.org/pipermail/python-dev/2018-March/152348.html\">Python dev mailing list</a>\n",
    "\n",
    "> Nie ma co whcodzić w gierki słowne, Python 2 kończy życie 1 stycznia 2020, nie będzie aktualizacji, nawet łatek bezpieczeństwa. [...] Programiści Python włożyli wystarczająco dużo wysiłku w podtrzymanie pacjenta przy życiu, było wystarczająco dużo czasu, żeby się przesiąść (pierwsza data pogrzebu to 2015). Zupełnie mnie to nie boli, że kończymy z 2."
   ]
  },
  {
   "cell_type": "markdown",
   "metadata": {
    "slideshow": {
     "slide_type": "notes"
    }
   },
   "source": [
    "oryginał:\n",
    "\n",
    "> Let’s not play games with semantics. The way I see the situation for 2.7 is that EOL is January 1st, 2020, and there will be no updates, not even source-only security patches, after that date. Support (from the core devs, the PSF, and python.org) stops completely on that date. If you want support for 2.7 beyond that day you will have to pay a commercial vendor. Of course it’s open source so people are also welcome to fork it. But the core devs have toiled long enough, and the 2020 EOL date (an extension from the originally annouced 2015 EOL!) was announced with sufficient lead time and fanfare that I don’t feel bad about stopping to support it at all.\n",
    "\n"
   ]
  },
  {
   "cell_type": "markdown",
   "metadata": {
    "slideshow": {
     "slide_type": "slide"
    }
   },
   "source": [
    "# Anaconda, jak ułatwia życie"
   ]
  },
  {
   "cell_type": "markdown",
   "metadata": {
    "slideshow": {
     "slide_type": "fragment"
    }
   },
   "source": [
    "- Anaconda zawiera setki zbudowanych pakietów, których instalacja sprawiłaby trudność nie tylko początkującym"
   ]
  },
  {
   "cell_type": "markdown",
   "metadata": {
    "slideshow": {
     "slide_type": "fragment"
    }
   },
   "source": [
    "- Instalacja nowych pakietów jest prostsza, wystarczy `conda install PACKAGENAME`, na każdym systemie"
   ]
  },
  {
   "cell_type": "markdown",
   "metadata": {
    "slideshow": {
     "slide_type": "fragment"
    }
   },
   "source": [
    "- Zawiera wbudowany virtualenv i różne wersje pythona:\n",
    "    `conda create --name py35 python=3.5`"
   ]
  },
  {
   "cell_type": "markdown",
   "metadata": {
    "slideshow": {
     "slide_type": "slide"
    }
   },
   "source": [
    "<center>\n",
    "    https://conda.io/docs/_downloads/conda-cheatsheet.pdf\n",
    "![cheat](cheat.png)\n",
    "</center>"
   ]
  },
  {
   "cell_type": "markdown",
   "metadata": {
    "slideshow": {
     "slide_type": "slide"
    }
   },
   "source": [
    "- zawiera anaconda navigator\n",
    "\n",
    "![navigator](https://docs.anaconda.com/_images/navigator-home-1-6.png)"
   ]
  },
  {
   "cell_type": "markdown",
   "metadata": {
    "slideshow": {
     "slide_type": "slide"
    }
   },
   "source": [
    "# Jak wygląda Cython?\n",
    "- trochę jak Python \n",
    "- trochę jak C \n",
    "- ale wcale jak żaden z nich"
   ]
  },
  {
   "cell_type": "code",
   "execution_count": 1,
   "metadata": {
    "slideshow": {
     "slide_type": "slide"
    }
   },
   "outputs": [],
   "source": [
    "# Python: integrate_py.py\n",
    "\n",
    "from math import sin\n",
    "\n",
    "def f(x):\n",
    "    return sin(x**2)\n",
    "\n",
    "def integrate_f(a, b, N):\n",
    "    dx = (b-a)/N\n",
    "    s = 0\n",
    "    for i in range(N):\n",
    "        s += f(a+i*dx)\n",
    "    return s * dx"
   ]
  },
  {
   "cell_type": "code",
   "execution_count": 2,
   "metadata": {
    "slideshow": {
     "slide_type": "slide"
    }
   },
   "outputs": [
    {
     "ename": "SyntaxError",
     "evalue": "invalid syntax (<ipython-input-2-13e709f1e8dc>, line 3)",
     "output_type": "error",
     "traceback": [
      "\u001b[0;36m  File \u001b[0;32m\"<ipython-input-2-13e709f1e8dc>\"\u001b[0;36m, line \u001b[0;32m3\u001b[0m\n\u001b[0;31m    cdef extern from \"math.h\":\u001b[0m\n\u001b[0m              ^\u001b[0m\n\u001b[0;31mSyntaxError\u001b[0m\u001b[0;31m:\u001b[0m invalid syntax\n"
     ]
    }
   ],
   "source": [
    "# Cython: integrate_cy.pyx\n",
    "\n",
    "cdef extern from \"math.h\":\n",
    "    double sin(double x)\n",
    "\n",
    "cdef double f(double x):\n",
    "    return sin(x**2)\n",
    "\n",
    "cpdef double integrate_f(double a, double b, int N):\n",
    "    cdef double dx, s\n",
    "    cdef int i\n",
    "\n",
    "    dx = (b-a)/N\n",
    "    s = 0\n",
    "    for i in range(N):\n",
    "        s += f(a+i*dx)\n",
    "    return s * dx"
   ]
  },
  {
   "cell_type": "markdown",
   "metadata": {
    "slideshow": {
     "slide_type": "slide"
    }
   },
   "source": [
    "# Jak wygląda MyPy?\n",
    "- jak Python 3.6 z zastosowanym typowaniem\n"
   ]
  },
  {
   "cell_type": "code",
   "execution_count": null,
   "metadata": {
    "slideshow": {
     "slide_type": "slide"
    }
   },
   "outputs": [],
   "source": [
    "class BankAccount:\n",
    "    def __init__(self, initial_balance=0):\n",
    "        self.balance = initial_balance\n",
    "    def deposit(self, amount):\n",
    "        self.balance += amount\n",
    "    def withdraw(self, amount):\n",
    "        self.balance -= amount\n",
    "    def overdrawn(self):\n",
    "        return self.balance < 0\n",
    "\n"
   ]
  },
  {
   "cell_type": "code",
   "execution_count": null,
   "metadata": {
    "slideshow": {
     "slide_type": "fragment"
    }
   },
   "outputs": [],
   "source": [
    "# Mypy with static typing\n",
    "class BankAccount:\n",
    "    def __init__(self, initial_balance: int = 0) -> None:\n",
    "        self.balance = initial_balance\n",
    "    def deposit(self, amount: int) -> None:\n",
    "        self.balance += amount\n",
    "    def withdraw(self, amount: int) -> None:\n",
    "        self.balance -= amount\n",
    "    def overdrawn(self) -> bool:\n",
    "        return self.balance < 0\n"
   ]
  },
  {
   "cell_type": "markdown",
   "metadata": {
    "slideshow": {
     "slide_type": "slide"
    }
   },
   "source": [
    "# Dzięki"
   ]
  },
  {
   "cell_type": "markdown",
   "metadata": {
    "slideshow": {
     "slide_type": "notes"
    }
   },
   "source": [
    "\n",
    "# Plan prezentacji\n",
    "\n",
    "nieco już nieaktualny\n",
    "\n",
    "Anaconda, CPython, MyPy? - Implementacje Pythona, co to, po co i dlaczego?  \n",
    "\n",
    "- krótka, wesoła historia powstania Pythona, 1 - 2 min, wyjaśnienie, że Python to model, a my piszemy w CPython, pokazać twarz Guido\n",
    "- Lista implementacji i pół zdania o każdej, która do czegokolwiek służy, Anaconda, PyPy, MyPy, Cython, Stackless, MicroPython, Jython, Brython, IronPython, nie przynudzać, pokazać twarze twórców, ile w ogóle jest implementacji\n",
    "- krótko o tym, że IPython i BPython to też dystrybucje, tylko do czego innego służą\n",
    "- Python 2 i 3 to też po prostu dystrybucje, czy Python 2 umrze i dlaczego nie?\n",
    "- Anaconda, jakie problemy rozwiązała (packaging, ...), do kogo jest kierowana (data science, windowsowcy (dlaczego?))\n",
    "- PyPy krótko, kto potrzebuje, czym jest JIT (prosto)\n",
    "- Cython, kto stosuje\n",
    "- MyPy, herezja (statyczny) czy potrzeba?\n",
    "- krótko, jeżeli będzie czas, spekulacje na temat tego jakie implementacje by się przydały\n",
    "- podsumowanie, wnioski praktycze (z czym się naprawdę zetkniecie),\n",
    "- pytania i odpowiedzi"
   ]
  },
  {
   "cell_type": "markdown",
   "metadata": {
    "slideshow": {
     "slide_type": "notes"
    }
   },
   "source": [
    "Ta sekcja będzie rozwinięta\n",
    "\n",
    "Źródła:\n",
    "- https://en.wikipedia.org/wiki/History_of_Python#Early_history \n",
    "- https://en.wikipedia.org/wiki/CPython\n",
    "- https://en.wikipedia.org/wiki/Category:Python_implementations\n",
    "- http://ironpython.net/\n",
    "- https://numba.pydata.org/\n",
    "- https://wiki.python.org/jython/WhyJython\n",
    "- http://www.behnel.de/cython200910/talk.html\n",
    "- http://mypy-lang.org/examples.html\n",
    "\n",
    "Nie na temat, dla superciekawych\n",
    "- https://github.com/serge-sans-paille/pythran\n",
    "- https://en.wikipedia.org/wiki/Pyrex_(programming_language)\n",
    "- https://github.com/shedskin/shedskin\n",
    "- http://nuitka.net/\n",
    "- https://software.intel.com/en-us/distribution-for-python\n",
    "- https://blog.europython.eu/post/162590522362/europython-2017-free-intel-distribution-for\n"
   ]
  }
 ],
 "metadata": {
  "celltoolbar": "Slideshow",
  "kernelspec": {
   "display_name": "Python 3",
   "language": "python",
   "name": "python3"
  },
  "language_info": {
   "codemirror_mode": {
    "name": "ipython",
    "version": 2
   },
   "file_extension": ".py",
   "mimetype": "text/x-python",
   "name": "python",
   "nbconvert_exporter": "python",
   "pygments_lexer": "ipython2",
   "version": "2.7.12"
  },
  "livereveal": {
   "controls": false,
   "progress": false,
   "slideNumber": false,
   "theme": "white",
   "transition": "fade"
  }
 },
 "nbformat": 4,
 "nbformat_minor": 2
}
